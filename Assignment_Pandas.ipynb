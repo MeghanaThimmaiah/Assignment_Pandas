{
 "cells": [
  {
   "cell_type": "code",
   "execution_count": null,
   "id": "b708e06c",
   "metadata": {},
   "outputs": [],
   "source": [
    "# Import the necessary libraries"
   ]
  },
  {
   "cell_type": "code",
   "execution_count": null,
   "id": "15b74400",
   "metadata": {},
   "outputs": [],
   "source": [
    "import numpy as np\n",
    "import seaborn as sns\n",
    "import matplotlib.pyplot as plt\n",
    "import pandas as pd"
   ]
  },
  {
   "cell_type": "code",
   "execution_count": null,
   "id": "81071c25",
   "metadata": {},
   "outputs": [],
   "source": [
    "#Import the dataset\n",
    "user = pd.read_csv(r\"D:\\Data_Science\\Pandas\\Assignments\\Assignment2.csv\")\n",
    "user.head()"
   ]
  },
  {
   "cell_type": "code",
   "execution_count": null,
   "id": "cb3cb64e",
   "metadata": {},
   "outputs": [],
   "source": [
    "#Assign it to a variable called users and use the 'user_id' as index\n",
    "user['user_id']=user['user_id|age|gender|occupation|zip_code'].apply(lambda x:x.split('|')[0])\n",
    "user['age']=user['user_id|age|gender|occupation|zip_code'].apply(lambda x:int(x.split('|')[1]))\n",
    "user['gender']=user['user_id|age|gender|occupation|zip_code'].apply(lambda x:x.split('|')[2])\n",
    "user['occupation']=user['user_id|age|gender|occupation|zip_code'].apply(lambda x:x.split('|')[3])\n",
    "user['zip_code']=user['user_id|age|gender|occupation|zip_code'].apply(lambda x:x.split('|')[4])\n",
    "user.drop('user_id|age|gender|occupation|zip_code',axis=1,inplace=True)\n",
    "user.set_index('user_id',inplace=True)\n",
    "user.head()"
   ]
  },
  {
   "cell_type": "code",
   "execution_count": null,
   "id": "f8c1ff0f",
   "metadata": {},
   "outputs": [],
   "source": [
    "#See the first 10 and last 10 entries\n",
    "print(\"----------First 10 entries----------\")\n",
    "user.head(10)"
   ]
  },
  {
   "cell_type": "code",
   "execution_count": null,
   "id": "368de0b2",
   "metadata": {},
   "outputs": [],
   "source": [
    "print(\"----------Last 10 entries----------\")\n",
    "user.tail(10)"
   ]
  },
  {
   "cell_type": "code",
   "execution_count": null,
   "id": "a8aab799",
   "metadata": {},
   "outputs": [],
   "source": [
    "#What is the number of observations in the dataset?\n",
    "print(\"Number of observation: \",len(user))"
   ]
  },
  {
   "cell_type": "code",
   "execution_count": null,
   "id": "d789146b",
   "metadata": {},
   "outputs": [],
   "source": [
    "print(\"Number of columns: \",user.shape[1])"
   ]
  },
  {
   "cell_type": "code",
   "execution_count": null,
   "id": "089d401b",
   "metadata": {},
   "outputs": [],
   "source": [
    "print(\"Name of all the columns: \",user.columns)"
   ]
  },
  {
   "cell_type": "code",
   "execution_count": null,
   "id": "916df785",
   "metadata": {},
   "outputs": [],
   "source": [
    "#How is the dataset indexed?\n",
    "print(f\"Dataset indexed: {user.index}\")"
   ]
  },
  {
   "cell_type": "code",
   "execution_count": null,
   "id": "30f67133",
   "metadata": {},
   "outputs": [],
   "source": [
    "#What is the data type of each column?\n",
    "print(f\"Datatype of each column: {user.info()}\")"
   ]
  },
  {
   "cell_type": "code",
   "execution_count": null,
   "id": "b5ef9b23",
   "metadata": {},
   "outputs": [],
   "source": [
    "#Print only the occupation column\n",
    "print(f\"Occupation of all people:\\n {user['occupation']}\")"
   ]
  },
  {
   "cell_type": "code",
   "execution_count": null,
   "id": "2f10f807",
   "metadata": {},
   "outputs": [],
   "source": [
    "#How many different occupations are in this dataset?\n",
    "print(\"Total number of occupations are in dataset: \",len(user['occupation'].unique()))"
   ]
  },
  {
   "cell_type": "code",
   "execution_count": null,
   "id": "a7001b5c",
   "metadata": {},
   "outputs": [],
   "source": [
    "#What is the most frequent occupation?\n",
    "print(f\"Most frquent occupation:\\n {user['occupation'].mode()}\")"
   ]
  },
  {
   "cell_type": "code",
   "execution_count": null,
   "id": "6b188f2c",
   "metadata": {},
   "outputs": [],
   "source": [
    "#DataFrame Info.\n",
    "print(f\"Dataframe information: {user.info()}\")"
   ]
  },
  {
   "cell_type": "code",
   "execution_count": null,
   "id": "e3ea8ce4",
   "metadata": {},
   "outputs": [],
   "source": [
    "#Describe all the columns\n",
    "print(f\"Describe all the columns:\\n {user.describe()}\")"
   ]
  },
  {
   "cell_type": "code",
   "execution_count": null,
   "id": "7f0e8ddb",
   "metadata": {},
   "outputs": [],
   "source": [
    "#Summarize only the occupation column\n",
    "print(f\"Summary of occupations:\\n {user.groupby('occupation')['occupation'].count()}\")"
   ]
  },
  {
   "cell_type": "code",
   "execution_count": null,
   "id": "3dc37e96",
   "metadata": {},
   "outputs": [],
   "source": [
    "#What is the mean age of users?\n",
    "print(\"Mean of all users age: \",user['age'].mean())"
   ]
  },
  {
   "cell_type": "code",
   "execution_count": null,
   "id": "23d23212",
   "metadata": {},
   "outputs": [],
   "source": [
    "#What is the age with least occurrence?\n",
    "print(f\"Least occurence of age: {user['age'].value_counts().idxmin()}\")"
   ]
  }
 ],
 "metadata": {
  "kernelspec": {
   "display_name": "Python 3 (ipykernel)",
   "language": "python",
   "name": "python3"
  },
  "language_info": {
   "codemirror_mode": {
    "name": "ipython",
    "version": 3
   },
   "file_extension": ".py",
   "mimetype": "text/x-python",
   "name": "python",
   "nbconvert_exporter": "python",
   "pygments_lexer": "ipython3",
   "version": "3.10.2"
  }
 },
 "nbformat": 4,
 "nbformat_minor": 5
}
